{
 "cells": [
  {
   "cell_type": "code",
   "execution_count": 12,
   "metadata": {},
   "outputs": [
    {
     "name": "stdout",
     "output_type": "stream",
     "text": [
      "\u001b[38;5;218mtesting head function\u001b[0m\n",
      "\u001b[38;5;215m...\u001b[0m\n",
      "\u001b[38;5;220mdone!!\u001b[0m\n"
     ]
    }
   ],
   "source": [
    "def head(t):\n",
    "    if len(t) > 0:\n",
    "        return t[0]\n",
    "    else: \n",
    "        return None\n",
    "\n",
    "def test_head():\n",
    "    print(f\"\\033[38;5;218m{\"testing head function\"}\\033[0m\")\n",
    "    print(f\"\\033[38;5;215m{\"...\"}\\033[0m\")\n",
    "    assert head([1,2,3]) == 1\n",
    "    assert head([]) == None\n",
    "    print(f\"\\033[38;5;220m{\"done!!\"}\\033[0m\")\n",
    "\n",
    "test_head()"
   ]
  },
  {
   "cell_type": "code",
   "execution_count": 13,
   "metadata": {},
   "outputs": [
    {
     "name": "stdout",
     "output_type": "stream",
     "text": [
      "\u001b[38;5;218mtesting tail function\u001b[0m\n",
      "\u001b[38;5;215m...\u001b[0m\n",
      "\u001b[38;5;220mdone!!\u001b[0m\n"
     ]
    }
   ],
   "source": [
    "def tail(t):\n",
    "    if t == []:\n",
    "        return []\n",
    "    else:\n",
    "        return t[1:]\n",
    "    \n",
    "def test_tail():\n",
    "    print(f\"\\033[38;5;218m{\"testing tail function\"}\\033[0m\")\n",
    "    print(f\"\\033[38;5;215m{\"...\"}\\033[0m\")\n",
    "    assert tail([1,2,3]) == [2, 3]\n",
    "    assert tail([1,2,3,4,5]) == [2, 3, 4, 5]\n",
    "    assert tail([]) == []\n",
    "    print(f\"\\033[38;5;220m{\"done!!\"}\\033[0m\")\n",
    "\n",
    "test_tail()"
   ]
  },
  {
   "cell_type": "code",
   "execution_count": 14,
   "metadata": {},
   "outputs": [
    {
     "name": "stdout",
     "output_type": "stream",
     "text": [
      "\u001b[38;5;218mtesting count function\u001b[0m\n",
      "\u001b[38;5;215m...\u001b[0m\n",
      "\u001b[38;5;220mdone!!\u001b[0m\n"
     ]
    }
   ],
   "source": [
    "def count(t):\n",
    "    if t ==[]:\n",
    "        return 0\n",
    "    return 1 + count(tail(t))\n",
    "    \n",
    "def test_count():\n",
    "    print(f\"\\033[38;5;218m{\"testing count function\"}\\033[0m\")\n",
    "    print(f\"\\033[38;5;215m{\"...\"}\\033[0m\")\n",
    "    assert count([1,2,3]) == 3\n",
    "    assert count([]) == 0\n",
    "    print(f\"\\033[38;5;220m{\"done!!\"}\\033[0m\")\n",
    "\n",
    "test_count()\n",
    "    "
   ]
  },
  {
   "cell_type": "code",
   "execution_count": 29,
   "metadata": {},
   "outputs": [
    {
     "name": "stdout",
     "output_type": "stream",
     "text": [
      "\u001b[38;5;218mtesting sum function\u001b[0m\n",
      "\u001b[38;5;215m...\u001b[0m\n",
      "\u001b[38;5;220mdone!!\u001b[0m\n"
     ]
    }
   ],
   "source": [
    "def sum(t):\n",
    "    if t ==[]:\n",
    "        return 0\n",
    "    return head(t) + sum(tail(t))\n",
    "    \n",
    "def test_sum():\n",
    "    print(f\"\\033[38;5;218m{\"testing sum function\"}\\033[0m\")\n",
    "    print(f\"\\033[38;5;215m{\"...\"}\\033[0m\")\n",
    "    assert sum([1,2,3]) == 6\n",
    "    assert sum([]) == 0\n",
    "    print(f\"\\033[38;5;220m{\"done!!\"}\\033[0m\")\n",
    "\n",
    "test_sum()"
   ]
  },
  {
   "cell_type": "code",
   "execution_count": 30,
   "metadata": {},
   "outputs": [
    {
     "name": "stdout",
     "output_type": "stream",
     "text": [
      "\u001b[38;5;218mtesting upper function\u001b[0m\n",
      "\u001b[38;5;215m...\u001b[0m\n",
      "\u001b[38;5;220mdone!!\u001b[0m\n"
     ]
    }
   ],
   "source": [
    "def upper(t, n):\n",
    "    if t == []:\n",
    "        return []\n",
    "    if head(t) > n:\n",
    "        return [head(t)] + upper(tail(t), n)\n",
    "    return upper(tail(t), n)\n",
    "\n",
    "def test_upper():\n",
    "    print(f\"\\033[38;5;218m{\"testing upper function\"}\\033[0m\")\n",
    "    print(f\"\\033[38;5;215m{\"...\"}\\033[0m\")\n",
    "    assert upper([1,2,3,4], 2) == [3,4]\n",
    "    assert upper([1,2,3,4], 5) == []\n",
    "    assert upper([], 2) == []\n",
    "    print(f\"\\033[38;5;220m{\"done!!\"}\\033[0m\")\n",
    "\n",
    "\n",
    "test_upper()"
   ]
  },
  {
   "cell_type": "code",
   "execution_count": 31,
   "metadata": {},
   "outputs": [
    {
     "name": "stdout",
     "output_type": "stream",
     "text": [
      "\u001b[38;5;218mtesting lower function\u001b[0m\n",
      "\u001b[38;5;215m...\u001b[0m\n",
      "\u001b[38;5;220mdone!!\u001b[0m\n"
     ]
    }
   ],
   "source": [
    "def lower(t, n):\n",
    "    if t == []:\n",
    "        return []\n",
    "    if head(t) < n:\n",
    "        return [head(t)] + lower(tail(t), n)\n",
    "    return lower(tail(t), n)\n",
    "\n",
    "def test_lower():\n",
    "    print(f\"\\033[38;5;218m{\"testing lower function\"}\\033[0m\")\n",
    "    print(f\"\\033[38;5;215m{\"...\"}\\033[0m\")\n",
    "    assert lower([1,2,3,4], 2) == [1]\n",
    "    assert lower([1,2,3,4], 5) == [1,2,3,4]\n",
    "    assert lower([], 2) == []\n",
    "    print(f\"\\033[38;5;220m{\"done!!\"}\\033[0m\")\n",
    "\n",
    "test_lower()"
   ]
  },
  {
   "cell_type": "code",
   "execution_count": 22,
   "metadata": {},
   "outputs": [
    {
     "name": "stdout",
     "output_type": "stream",
     "text": [
      "\u001b[38;5;218mtesting equal function\u001b[0m\n",
      "\u001b[38;5;215m...\u001b[0m\n",
      "\u001b[38;5;220mdone!!\u001b[0m\n"
     ]
    }
   ],
   "source": [
    "def equal(t, n):\n",
    "    if t == []:\n",
    "        return []\n",
    "    if head(t) == n:\n",
    "        return [head(t)] + equal(tail(t), n)\n",
    "    return equal(tail(t), n)\n",
    "\n",
    "def test_equal():\n",
    "    print(f\"\\033[38;5;218m{\"testing equal function\"}\\033[0m\")\n",
    "    print(f\"\\033[38;5;215m{\"...\"}\\033[0m\")\n",
    "    assert equal([1,2,2,4], 2) == [2,2]\n",
    "    assert equal([1,2,3,4], 3) == [3]\n",
    "    assert equal([], 2) == []\n",
    "    print(f\"\\033[38;5;220m{\"done!!\"}\\033[0m\")\n",
    "\n",
    "test_equal()"
   ]
  },
  {
   "cell_type": "code",
   "execution_count": 28,
   "metadata": {},
   "outputs": [
    {
     "name": "stdout",
     "output_type": "stream",
     "text": [
      "\u001b[38;5;218mtesting sort function\u001b[0m\n",
      "\u001b[38;5;215m...\u001b[0m\n",
      "\u001b[38;5;220mdone!!\u001b[0m\n",
      "['ape', 'bat', 'pig']\n"
     ]
    }
   ],
   "source": [
    "def sort(t):\n",
    "    if t == []:\n",
    "        return []\n",
    "    n = head(t)\n",
    "    return sort(lower(tail(t),n)) + equal(t, n) + sort(upper(tail(t), n))\n",
    "\n",
    "def test_sort():\n",
    "    print(f\"\\033[38;5;218m{\"testing sort function\"}\\033[0m\")\n",
    "    print(f\"\\033[38;5;215m{\"...\"}\\033[0m\")\n",
    "    assert sort([1]) == [1]\n",
    "    assert sort([1,3,6,2,4,9,3,8,7,5, 0]) == [0,1,2,3,3,4,5,6,7,8,9]\n",
    "    assert sort([\"bat\", \"ape\", \"pig\"]) == [\"ape\", \"bat\", \"pig\"]\n",
    "    print(f\"\\033[38;5;220m{\"done!!\"}\\033[0m\")\n",
    "\n",
    "test_sort()"
   ]
  }
 ],
 "metadata": {
  "kernelspec": {
   "display_name": "Python 3",
   "language": "python",
   "name": "python3"
  },
  "language_info": {
   "codemirror_mode": {
    "name": "ipython",
    "version": 3
   },
   "file_extension": ".py",
   "mimetype": "text/x-python",
   "name": "python",
   "nbconvert_exporter": "python",
   "pygments_lexer": "ipython3",
   "version": "3.12.1"
  }
 },
 "nbformat": 4,
 "nbformat_minor": 2
}
