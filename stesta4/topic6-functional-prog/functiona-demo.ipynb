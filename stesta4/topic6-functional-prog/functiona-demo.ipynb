{
 "cells": [
  {
   "cell_type": "code",
   "execution_count": 8,
   "metadata": {},
   "outputs": [
    {
     "name": "stdout",
     "output_type": "stream",
     "text": [
      "\u001b[38;5;218mtesting head function\u001b[0m\n",
      "\u001b[38;5;215m...\u001b[0m\n",
      "\u001b[38;5;220mdone!!\u001b[0m\n"
     ]
    }
   ],
   "source": [
    "def head(t):\n",
    "    if len(t) > 0:\n",
    "        return t[0]\n",
    "    else: \n",
    "        return None\n",
    "\n",
    "def test_head():\n",
    "    print(f\"\\033[38;5;218m{\"testing head function\"}\\033[0m\")\n",
    "    print(f\"\\033[38;5;215m{\"...\"}\\033[0m\")\n",
    "    assert head([1,2,3]) == 1\n",
    "    assert head([]) == None\n",
    "    print(f\"\\033[38;5;220m{\"done!!\"}\\033[0m\")\n",
    "\n",
    "test_head()"
   ]
  },
  {
   "cell_type": "code",
   "execution_count": 9,
   "metadata": {},
   "outputs": [
    {
     "name": "stdout",
     "output_type": "stream",
     "text": [
      "\u001b[38;5;218mtesting tail function\u001b[0m\n",
      "\u001b[38;5;215m...\u001b[0m\n",
      "\u001b[38;5;220mdone!!\u001b[0m\n"
     ]
    }
   ],
   "source": [
    "def tail(t):\n",
    "    if t == []:\n",
    "        return []\n",
    "    else:\n",
    "        return t[1:]\n",
    "    \n",
    "def test_tail():\n",
    "    print(f\"\\033[38;5;218m{\"testing tail function\"}\\033[0m\")\n",
    "    print(f\"\\033[38;5;215m{\"...\"}\\033[0m\")\n",
    "    assert tail([1,2,3]) == [2, 3]\n",
    "    assert tail([1,2,3,4,5]) == [2, 3, 4, 5]\n",
    "    assert tail([]) == []\n",
    "    print(f\"\\033[38;5;220m{\"done!!\"}\\033[0m\")\n",
    "\n",
    "test_tail()"
   ]
  },
  {
   "cell_type": "code",
   "execution_count": 10,
   "metadata": {},
   "outputs": [
    {
     "name": "stdout",
     "output_type": "stream",
     "text": [
      "\u001b[38;5;218mtesting count function\u001b[0m\n",
      "\u001b[38;5;215m...\u001b[0m\n",
      "\u001b[38;5;220mdone!!\u001b[0m\n"
     ]
    }
   ],
   "source": [
    "def count(t):\n",
    "    if t ==[]:\n",
    "        return 0\n",
    "    return 1 + count(tail(t))\n",
    "    \n",
    "def test_count():\n",
    "    print(f\"\\033[38;5;218m{\"testing count function\"}\\033[0m\")\n",
    "    print(f\"\\033[38;5;215m{\"...\"}\\033[0m\")\n",
    "    assert count([1,2,3]) == 3\n",
    "    assert count([]) == 0\n",
    "    print(f\"\\033[38;5;220m{\"done!!\"}\\033[0m\")\n",
    "\n",
    "test_count()\n",
    "    "
   ]
  },
  {
   "cell_type": "code",
   "execution_count": 11,
   "metadata": {},
   "outputs": [
    {
     "name": "stdout",
     "output_type": "stream",
     "text": [
      "\u001b[38;5;218mtesting sum function\u001b[0m\n",
      "\u001b[38;5;215m...\u001b[0m\n",
      "\u001b[38;5;220mdone!!\u001b[0m\n"
     ]
    }
   ],
   "source": [
    "def sum(t):\n",
    "    if t ==[]:\n",
    "        return 0\n",
    "    return head(t) + sum(tail(t))\n",
    "    \n",
    "def test_sum():\n",
    "    print(f\"\\033[38;5;218m{\"testing sum function\"}\\033[0m\")\n",
    "    print(f\"\\033[38;5;215m{\"...\"}\\033[0m\")\n",
    "    assert sum([1,2,3]) == 6\n",
    "    assert sum([]) == 0\n",
    "    print(f\"\\033[38;5;220m{\"done!!\"}\\033[0m\")\n",
    "\n",
    "test_sum()"
   ]
  },
  {
   "cell_type": "code",
   "execution_count": 12,
   "metadata": {},
   "outputs": [
    {
     "name": "stdout",
     "output_type": "stream",
     "text": [
      "\u001b[38;5;218mtesting upper function\u001b[0m\n",
      "\u001b[38;5;215m...\u001b[0m\n",
      "\u001b[38;5;220mdone!!\u001b[0m\n"
     ]
    }
   ],
   "source": [
    "def upper(t, n):\n",
    "    if t == []:\n",
    "        return []\n",
    "    if head(t) > n:\n",
    "        return [head(t)] + upper(tail(t), n)\n",
    "    return upper(tail(t), n)\n",
    "\n",
    "def test_upper():\n",
    "    print(f\"\\033[38;5;218m{\"testing upper function\"}\\033[0m\")\n",
    "    print(f\"\\033[38;5;215m{\"...\"}\\033[0m\")\n",
    "    assert upper([1,2,3,4], 2) == [3,4]\n",
    "    assert upper([1,2,3,4], 5) == []\n",
    "    assert upper([], 2) == []\n",
    "    print(f\"\\033[38;5;220m{\"done!!\"}\\033[0m\")\n",
    "\n",
    "\n",
    "test_upper()"
   ]
  },
  {
   "cell_type": "code",
   "execution_count": 13,
   "metadata": {},
   "outputs": [
    {
     "name": "stdout",
     "output_type": "stream",
     "text": [
      "\u001b[38;5;218mtesting lower function\u001b[0m\n",
      "\u001b[38;5;215m...\u001b[0m\n",
      "\u001b[38;5;220mdone!!\u001b[0m\n"
     ]
    }
   ],
   "source": [
    "def lower(t, n):\n",
    "    if t == []:\n",
    "        return []\n",
    "    if head(t) < n:\n",
    "        return [head(t)] + lower(tail(t), n)\n",
    "    return lower(tail(t), n)\n",
    "\n",
    "def test_lower():\n",
    "    print(f\"\\033[38;5;218m{\"testing lower function\"}\\033[0m\")\n",
    "    print(f\"\\033[38;5;215m{\"...\"}\\033[0m\")\n",
    "    assert lower([1,2,3,4], 2) == [1]\n",
    "    assert lower([1,2,3,4], 5) == [1,2,3,4]\n",
    "    assert lower([], 2) == []\n",
    "    print(f\"\\033[38;5;220m{\"done!!\"}\\033[0m\")\n",
    "\n",
    "test_lower()"
   ]
  },
  {
   "cell_type": "code",
   "execution_count": 14,
   "metadata": {},
   "outputs": [
    {
     "name": "stdout",
     "output_type": "stream",
     "text": [
      "\u001b[38;5;218mtesting equal function\u001b[0m\n",
      "\u001b[38;5;215m...\u001b[0m\n",
      "\u001b[38;5;220mdone!!\u001b[0m\n"
     ]
    }
   ],
   "source": [
    "def equal(t, n):\n",
    "    if t == []:\n",
    "        return []\n",
    "    if head(t) == n:\n",
    "        return [head(t)] + equal(tail(t), n)\n",
    "    return equal(tail(t), n)\n",
    "\n",
    "def test_equal():\n",
    "    print(f\"\\033[38;5;218m{\"testing equal function\"}\\033[0m\")\n",
    "    print(f\"\\033[38;5;215m{\"...\"}\\033[0m\")\n",
    "    assert equal([1,2,2,4], 2) == [2,2]\n",
    "    assert equal([1,2,3,4], 3) == [3]\n",
    "    assert equal([], 2) == []\n",
    "    print(f\"\\033[38;5;220m{\"done!!\"}\\033[0m\")\n",
    "\n",
    "test_equal()"
   ]
  },
  {
   "cell_type": "code",
   "execution_count": 17,
   "metadata": {},
   "outputs": [
    {
     "name": "stdout",
     "output_type": "stream",
     "text": [
      "\u001b[38;5;218mtesting sort function\u001b[0m\n",
      "\u001b[38;5;215m...\u001b[0m\n",
      "\u001b[38;5;220mdone!!\u001b[0m\n"
     ]
    }
   ],
   "source": [
    "def sort(t):\n",
    "    if t == []:\n",
    "        return []\n",
    "    n = head(t)\n",
    "    return sort(lower(tail(t), n)) + equal(t, n) + sort(upper(tail(t), n))\n",
    "\n",
    "\n",
    "def test_sort():\n",
    "    print(f\"\\033[38;5;218m{\"testing sort function\"}\\033[0m\")\n",
    "    print(f\"\\033[38;5;215m{\"...\"}\\033[0m\")\n",
    "    assert sort([1]) == [1]\n",
    "    assert sort([1, 3, 2, 4, 9, 3, 8, 7, 5, 6, 0]) == [0, 1, 2, 3, 3, 4, 5, 6, 7, 8, 9]\n",
    "    assert sort([]) == []\n",
    "    print(f\"\\033[38;5;220m{\"done!!\"}\\033[0m\")\n",
    "\n",
    "test_sort()"
   ]
  },
  {
   "cell_type": "code",
   "execution_count": 22,
   "metadata": {},
   "outputs": [
    {
     "name": "stdout",
     "output_type": "stream",
     "text": [
      "[1, 4, 3] [1, 2, 3]\n"
     ]
    }
   ],
   "source": [
    "def copy(t):\n",
    "    if t == []:\n",
    "        return []\n",
    "    return [head(t)] + copy(tail(t))\n",
    "\n",
    "def test_copy():\n",
    "    t = [1,2,3]\n",
    "    s = copy(t)\n",
    "    s[1] = 4\n",
    "    assert t == [1,2,3]\n",
    "    assert s == [1,4,3]\n",
    "    print(s,t)\n",
    "\n",
    "test_copy()"
   ]
  },
  {
   "cell_type": "code",
   "execution_count": null,
   "metadata": {},
   "outputs": [
    {
     "name": "stdout",
     "output_type": "stream",
     "text": [
      "[6, 5, 4]\n"
     ]
    }
   ],
   "source": [
    "def reverse(t):\n",
    "    if t == []:\n",
    "        return []\n",
    "    return reverse(tail(t)) + [head(t)]\n",
    "\n",
    "def test_reverse():\n",
    "    assert reverse([]) == []\n",
    "    assert reverse([1,2]) == [2,1]\n",
    "    assert reverse([1,2,3]) == [3,2,1]\n",
    "\n",
    "test_reverse()"
   ]
  },
  {
   "cell_type": "code",
   "execution_count": 31,
   "metadata": {},
   "outputs": [
    {
     "name": "stdout",
     "output_type": "stream",
     "text": [
      "\u001b[38;5;218mtesting mirror function\u001b[0m\n",
      "\u001b[38;5;215m...\u001b[0m\n",
      "\u001b[38;5;220mdone!!\u001b[0m\n"
     ]
    }
   ],
   "source": [
    "def mirror(t):\n",
    "    if t == []:\n",
    "        return []\n",
    "    if type(head(t)) is list:\n",
    "        return mirror(tail(t)) + [mirror(head(t))]\n",
    "    else: \n",
    "        return mirror(tail(t)) + [head(t)]\n",
    "\n",
    "\n",
    "def test_mirror():\n",
    "    print(f\"\\033[38;5;218m{\"testing mirror function\"}\\033[0m\")\n",
    "    print(f\"\\033[38;5;215m{\"...\"}\\033[0m\")\n",
    "    assert mirror([]) == []\n",
    "    assert mirror([1,2,3]) == [3,2,1]\n",
    "    assert mirror([1,2,[3,[4,5]]]) == [[[5,4],3], 2, 1]\n",
    "    print(f\"\\033[38;5;220m{\"done!!\"}\\033[0m\")\n",
    "\n",
    "test_mirror()"
   ]
  },
  {
   "cell_type": "code",
   "execution_count": 46,
   "metadata": {},
   "outputs": [],
   "source": [
    "def square_root(n, accuracy, guess):\n",
    "    assert n > 1.0\n",
    "    if abs((guess*guess) - n) < n * accuracy:\n",
    "        return guess\n",
    "    if (guess*guess) > n:\n",
    "        guess = (guess + 1) / 2.0\n",
    "        return square_root(n, accuracy, guess)\n",
    "    else:\n",
    "        guess = (guess + n) / 2.0\n",
    "        return square_root(n, accuracy, guess)\n",
    "\n",
    "\n",
    "def test_square_root():\n",
    "    assert square_root(9.0, 0.01, 3.0) == 3.0\n",
    "    assert square_root(9.0, 0.01, 3.0001) == 3.0001\n",
    "    assert 2.99 <= square_root(9, 0.01, 9) <= 3.01\n",
    "\n",
    "test_square_root()"
   ]
  }
 ],
 "metadata": {
  "kernelspec": {
   "display_name": "Python 3",
   "language": "python",
   "name": "python3"
  },
  "language_info": {
   "codemirror_mode": {
    "name": "ipython",
    "version": 3
   },
   "file_extension": ".py",
   "mimetype": "text/x-python",
   "name": "python",
   "nbconvert_exporter": "python",
   "pygments_lexer": "ipython3",
   "version": "3.12.1"
  }
 },
 "nbformat": 4,
 "nbformat_minor": 2
}
