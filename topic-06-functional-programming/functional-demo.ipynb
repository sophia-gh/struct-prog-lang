{
 "cells": [
  {
   "cell_type": "code",
   "execution_count": 14,
   "metadata": {},
   "outputs": [],
   "source": [
    "def head(t):\n",
    "    if len(t) > 0:\n",
    "        return t[0]\n",
    "    else:\n",
    "        return None\n",
    "\n",
    "\n",
    "def test_head():\n",
    "    assert head([1, 2, 3]) == 1\n",
    "    assert head([]) == None\n",
    "\n",
    "\n",
    "test_head()"
   ]
  },
  {
   "cell_type": "code",
   "execution_count": 15,
   "metadata": {},
   "outputs": [],
   "source": [
    "def tail(t):\n",
    "    if t == []:\n",
    "        return []\n",
    "    else:\n",
    "        return t[1:]\n",
    "\n",
    "\n",
    "def test_tail():\n",
    "    assert tail([1, 2, 3]) == [2, 3]\n",
    "    assert tail([]) == []\n",
    "\n",
    "\n",
    "test_tail()"
   ]
  },
  {
   "cell_type": "code",
   "execution_count": 16,
   "metadata": {},
   "outputs": [],
   "source": [
    "def count(t):\n",
    "    if t == []:\n",
    "        return 0\n",
    "    return 1 + count(tail(t))\n",
    "\n",
    "\n",
    "def test_count():\n",
    "    assert count([1, 2, 3]) == 3\n",
    "    assert count([]) == 0\n",
    "\n",
    "\n",
    "test_count()"
   ]
  },
  {
   "cell_type": "code",
   "execution_count": 17,
   "metadata": {},
   "outputs": [],
   "source": [
    "def sum(t):\n",
    "    if t == []:\n",
    "        return 0\n",
    "    return head(t) + sum(tail(t))\n",
    "\n",
    "\n",
    "def test_sum():\n",
    "    assert sum([1, 2, 3]) == 6\n",
    "    assert sum([]) == 0\n",
    "\n",
    "\n",
    "test_sum()"
   ]
  },
  {
   "cell_type": "code",
   "execution_count": 18,
   "metadata": {},
   "outputs": [],
   "source": [
    "def upper(t, n):\n",
    "    if t == []:\n",
    "        return []\n",
    "    if head(t) > n:\n",
    "        return [head(t)] + upper(tail(t), n)\n",
    "    return upper(tail(t), n)\n",
    "\n",
    "\n",
    "def test_upper():\n",
    "    assert upper([1, 2, 3, 4], 2) == [3, 4]\n",
    "    assert upper([1, 2, 3, 4], 5) == []\n",
    "    assert upper([], 2) == []\n",
    "\n",
    "\n",
    "test_upper()"
   ]
  },
  {
   "cell_type": "code",
   "execution_count": 20,
   "metadata": {},
   "outputs": [],
   "source": [
    "def lower(t, n):\n",
    "    if t == []:\n",
    "        return []\n",
    "    if head(t) < n:\n",
    "        return [head(t)] + lower(tail(t), n)\n",
    "    return lower(tail(t), n)\n",
    "\n",
    "\n",
    "def test_lower():\n",
    "    assert lower([1, 2, 3, 4], 3) == [1, 2]\n",
    "    assert lower([1, 2, 3, 4], 0) == []\n",
    "    assert lower([], 2) == []\n",
    "\n",
    "\n",
    "test_lower()"
   ]
  },
  {
   "cell_type": "code",
   "execution_count": 22,
   "metadata": {},
   "outputs": [],
   "source": [
    "def equal(t, n):\n",
    "    if t == []:\n",
    "        return []\n",
    "    if head(t) == n:\n",
    "        return [head(t)] + equal(tail(t), n)\n",
    "    return equal(tail(t), n)\n",
    "\n",
    "\n",
    "def test_equal():\n",
    "    assert equal([1, 2, 2, 4], 2) == [2, 2]\n",
    "    assert equal([1, 2, 4, 5], 3) == []\n",
    "    assert equal([], 2) == []\n",
    "\n",
    "\n",
    "test_equal()"
   ]
  },
  {
   "cell_type": "code",
   "execution_count": 23,
   "metadata": {},
   "outputs": [],
   "source": [
    "def sort(t):\n",
    "    if t == []:\n",
    "        return []\n",
    "    n = head(t)\n",
    "    return sort(lower(tail(t), n)) + equal(t, n) + sort(upper(tail(t), n))\n",
    "\n",
    "\n",
    "def test_sort():\n",
    "    assert sort([1]) == [1]\n",
    "    assert sort([1, 3, 2, 4, 9, 3, 8, 7, 5, 6, 0]) == [0, 1, 2, 3, 3, 4, 5, 6, 7, 8, 9]\n",
    "    assert sort([]) == []"
   ]
  }
 ],
 "metadata": {
  "language_info": {
   "name": "python"
  }
 },
 "nbformat": 4,
 "nbformat_minor": 2
}
